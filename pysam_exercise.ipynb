{
  "nbformat": 4,
  "nbformat_minor": 0,
  "metadata": {
    "colab": {
      "provenance": []
    },
    "kernelspec": {
      "name": "python3",
      "display_name": "Python 3"
    },
    "language_info": {
      "name": "python"
    }
  },
  "cells": [
    {
      "cell_type": "code",
      "execution_count": 3,
      "metadata": {
        "colab": {
          "base_uri": "https://localhost:8080/"
        },
        "id": "tVGRX__ADIBY",
        "outputId": "04930f01-aa35-4b58-b8cb-99c754bb555a"
      },
      "outputs": [
        {
          "output_type": "stream",
          "name": "stdout",
          "text": [
            "Looking in indexes: https://pypi.org/simple, https://us-python.pkg.dev/colab-wheels/public/simple/\n",
            "Requirement already satisfied: pysam in /usr/local/lib/python3.8/dist-packages (0.20.0)\n"
          ]
        }
      ],
      "source": [
        "pip install pysam"
      ]
    },
    {
      "cell_type": "code",
      "source": [
        "import pysam as ps"
      ],
      "metadata": {
        "id": "777Fo-Q5DYG5"
      },
      "execution_count": 4,
      "outputs": []
    },
    {
      "cell_type": "code",
      "source": [
        "bam_file = ps.AlignmentFile('merged-normal.bam', 'rb')\n",
        "# count returns number of reads in a region if region is not specified, takes whole file\n",
        "total_number_of_reads = bam_file.count()  \n",
        "print('Total number of reads\\n', total_number_of_reads)"
      ],
      "metadata": {
        "colab": {
          "base_uri": "https://localhost:8080/"
        },
        "id": "r1cFIXmoETgT",
        "outputId": "8827704e-3f1c-4cfa-8a6e-106554887ab4"
      },
      "execution_count": 16,
      "outputs": [
        {
          "output_type": "stream",
          "name": "stdout",
          "text": [
            "Total number of reads\n",
            " 1717401\n"
          ]
        }
      ]
    },
    {
      "cell_type": "code",
      "source": [
        "fetched_file = bam_file.fetch() #iterator\n",
        "# fetch reads aligned in a specified region\n",
        "# Without a contig or region all mapped reads in the file will be fetched\n",
        "\n",
        "# first_read is AligmentSegment\n",
        "first_read = next(fetched_file)   # next returns next item in the iterator\n",
        "print(first_read)"
      ],
      "metadata": {
        "id": "K-PcXw7J79aA",
        "colab": {
          "base_uri": "https://localhost:8080/"
        },
        "outputId": "a65f5e6c-4d5e-4811-a5d6-d79a30d5650c"
      },
      "execution_count": 18,
      "outputs": [
        {
          "output_type": "stream",
          "name": "stdout",
          "text": [
            "D0MBKACXX120224:2:2206:17237:35667\t99\t#20\t9483248\t27\t76M\t#20\t9483399\t227\tCTTTTCAAACAGTATCTATGCCTGCCAAATGTGAACATATAAAAAAAAACCAGAATGTGCCATTCTGATTTAAACT\tarray('B', [32, 33, 29, 29, 33, 37, 32, 37, 35, 40, 35, 41, 30, 31, 31, 41, 35, 30, 31, 39, 39, 38, 35, 41, 39, 38, 34, 36, 36, 31, 41, 31, 41, 33, 36, 40, 35, 31, 32, 31, 32, 36, 37, 36, 36, 36, 36, 36, 37, 40, 38, 35, 41, 34, 37, 31, 42, 31, 40, 38, 37, 33, 31, 31, 38, 36, 40, 34, 31, 34, 31, 30, 33, 30, 32, 33])\t[('XA', 'GL000217.1,-110755,76M,1;'), ('BD', 'NNNNNNNNNNNNNNNNNNNNNNNNNNNNNNNNNNNNNNNNNNNNNNNNNNNNNNNNNNNNNNNNNNNNNNNNNNNN'), ('MD', '76'), ('RG', '1'), ('BI', 'NNNNNNNNNNNNNNNNNNNNNNNNNNNNNNNNNNNNNNNNNNNNNNNNNNNNNNNNNNNNNNNNNNNNNNNNNNNN'), ('NM', 0), ('MQ', 27), ('AS', 76), ('XS', 71)]\n"
          ]
        }
      ]
    },
    {
      "cell_type": "code",
      "source": [
        "info_first_read = first_read.to_dict() # or .to_string\n",
        "print('Inspected first read\\n', info_first_read)\n",
        "flag = info_first_read['flag']\n",
        "print('Inspected flag of the first read\\n', flag)"
      ],
      "metadata": {
        "id": "lpEPmoGj8Cmf",
        "colab": {
          "base_uri": "https://localhost:8080/"
        },
        "outputId": "c011e5b1-9b8c-4fc5-e680-92b178a0166e"
      },
      "execution_count": 19,
      "outputs": [
        {
          "output_type": "stream",
          "name": "stdout",
          "text": [
            "Inspected first read\n",
            " {'name': 'D0MBKACXX120224:2:2206:17237:35667', 'flag': '99', 'ref_name': '21', 'ref_pos': '9483248', 'map_quality': '27', 'cigar': '76M', 'next_ref_name': '=', 'next_ref_pos': '9483399', 'length': '227', 'seq': 'CTTTTCAAACAGTATCTATGCCTGCCAAATGTGAACATATAAAAAAAAACCAGAATGTGCCATTCTGATTTAAACT', 'qual': 'AB>>BFAFDIDJ?@@JD?@HHGDJHGCEE@J@JBEID@A@AEFEEEEEFIGDJCF@K@IGFB@@GEIC@C@?B?AB', 'tags': ['XA:Z:GL000217.1,-110755,76M,1;', 'BD:Z:NNNNNNNNNNNNNNNNNNNNNNNNNNNNNNNNNNNNNNNNNNNNNNNNNNNNNNNNNNNNNNNNNNNNNNNNNNNN', 'MD:Z:76', 'RG:Z:1', 'BI:Z:NNNNNNNNNNNNNNNNNNNNNNNNNNNNNNNNNNNNNNNNNNNNNNNNNNNNNNNNNNNNNNNNNNNNNNNNNNNN', 'NM:i:0', 'MQ:i:27', 'AS:i:76', 'XS:i:71']}\n",
            "Inspected flag of the first read\n",
            " 99\n"
          ]
        }
      ]
    },
    {
      "cell_type": "code",
      "source": [
        "number_of_unmapped = bam_file.unmapped\n",
        "print('Number of unmapped reads\\n', number_of_unmapped)\n",
        "\n",
        "num_reads_map_quality_zero = 0\n",
        "sum_map_quality = 0\n",
        "map_quality_non_zero = 0\n",
        "\n",
        "for read in fetched_file:\n",
        "  sum_map_quality += read.mapping_quality #sum of mapping quality of all reads\n",
        "  if read.mapping_quality == 0:\n",
        "    num_reads_map_quality_zero += 1\n",
        "  else:\n",
        "    map_quality_non_zero += read.mapping_quality\n",
        "\n",
        "avg_map_qual = sum_map_quality/total_number_of_reads\n",
        "avg_map_qual_non_zero = map_quality_non_zero/(total_number_of_reads - num_reads_map_quality_zero)\n",
        "\n",
        "print('Number of reads with mapping quality = 0\\n', num_reads_map_quality_zero)\n",
        "print('Average mapping quality for all the reads\\n', avg_map_qual)\n",
        "print('Average mapping quality if reads with 0 mapp quality are filtered out\\n', avg_map_qual_non_zero)"
      ],
      "metadata": {
        "id": "3H57vRk78KRP",
        "colab": {
          "base_uri": "https://localhost:8080/"
        },
        "outputId": "4c470631-93f7-443e-ff70-001e74382f1f"
      },
      "execution_count": 20,
      "outputs": [
        {
          "output_type": "stream",
          "name": "stdout",
          "text": [
            "Number of unmapped reads\n",
            " 0\n",
            "Number of reads with mapping quality = 0\n",
            " 79442\n",
            "Average mapping quality for all the reads\n",
            " 55.854146468995886\n",
            "Average mapping quality if reads with 0 mapp quality are filtered out\n",
            " 58.563106280438035\n"
          ]
        }
      ]
    }
  ]
}